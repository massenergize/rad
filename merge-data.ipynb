{
 "nbformat": 4,
 "nbformat_minor": 2,
 "metadata": {
  "language_info": {
   "name": "python",
   "codemirror_mode": {
    "name": "ipython",
    "version": 3
   },
   "version": "3.8.2-final"
  },
  "orig_nbformat": 2,
  "file_extension": ".py",
  "mimetype": "text/x-python",
  "name": "python",
  "npconvert_exporter": "python",
  "pygments_lexer": "ipython3",
  "version": 3,
  "kernelspec": {
   "name": "python38264bit56e835e87a4143709e230354428bd69b",
   "display_name": "Python 3.8.2 64-bit"
  }
 },
 "cells": [
  {
   "cell_type": "code",
   "execution_count": 1,
   "metadata": {},
   "outputs": [],
   "source": [
    "import pandas as pd\n",
    "import numpy as np"
   ]
  },
  {
   "cell_type": "code",
   "execution_count": 9,
   "metadata": {},
   "outputs": [
    {
     "output_type": "error",
     "ename": "SyntaxError",
     "evalue": "invalid syntax (<ipython-input-9-88e4a5ca5ee3>, line 4)",
     "traceback": [
      "\u001b[0;36m  File \u001b[0;32m\"<ipython-input-9-88e4a5ca5ee3>\"\u001b[0;36m, line \u001b[0;32m4\u001b[0m\n\u001b[0;31m    zipcodes.applylambda x: '0'+str(x)\u001b[0m\n\u001b[0m                         ^\u001b[0m\n\u001b[0;31mSyntaxError\u001b[0m\u001b[0;31m:\u001b[0m invalid syntax\n"
     ]
    }
   ],
   "source": [
    "#PTS solar data next is the important one, tracking data\n",
    "zipcodes = pd.read_excel(\"Zip Code Community.xlsx\", 'Villages to Muni with Zip')\n",
    "\n",
    "zipcodes.applylambda x: '0'+str(x)\n",
    ", columns=['Zip Code']\n",
    "print(zipcodes)\n",
    "\n",
    "\n",
    "f_ashp = pd.read_excel('ResidentialASHPProjectDatabase 11.4.2019.xlsx', 'Sheet1', skiprows=3) \n",
    "df_ashp = df_ashp.drop([0]) #remove first null row\n",
    "\n",
    "df_pv = pd.read_excel('PVinPTSwebsite.xlsx')\n",
    "\n",
    "# df = df.iloc[2:]\n",
    "# Date Rebate Payment Approved by MassCEC\tSite City/Town\tSite Zip Code\tInstaller Company Name\tHeating Fuel Being Replaced\tCooling Type Being Replaced\t# of Outdoor Units\t# of Indoor Units\t Capacity of Heat Pumps at 5°F \tSingle- Head Heat Pump #1\tSingle- Head Heat Pump #2\tSingle- Head Heat Pump #3\tMulti-Head Heat Pump #1\tMulti-Head Heat Pump #2\tMulti-Head Heat Pump #3\tTotal System Costs\tReceiving an Income-Based Adder?\tRebate Amount "
   ]
  },
  {
   "cell_type": "code",
   "execution_count": 4,
   "metadata": {},
   "outputs": [
    {
     "output_type": "stream",
     "name": "stdout",
     "text": "1    1002.0\n2    1003.0\n3    1004.0\nName: Zip Code, dtype: float64\n"
    }
   ],
   "source": [
    "#testing\n",
    "# print(df.iloc[0])\n",
    "# print(df.head(3))\n",
    "# print(df['Site Zip Code'])\n",
    "# print(df.iloc[pd.np.r_[:1,1:]])\n",
    "# print(df)\n",
    "# print(df)\n",
    "\n",
    "print(zipcodes.loc[(zipcodes['City'] == 'Amherst')]['Zip Code'])"
   ]
  },
  {
   "cell_type": "code",
   "execution_count": 5,
   "metadata": {
    "tags": [
     "outputPrepend",
     "outputPrepend",
     "outputPrepend",
     "outputPrepend",
     "outputPrepend",
     "outputPrepend",
     "outputPrepend",
     "outputPrepend",
     "outputPrepend",
     "outputPrepend",
     "outputPrepend",
     "outputPrepend",
     "outputPrepend",
     "outputPrepend",
     "outputPrepend",
     "outputPrepend"
    ]
   },
   "outputs": [
    {
     "output_type": "stream",
     "name": "stdout",
     "text": "city in q Walpole\nnew x 02081.0\ncity in q WEST YARMOUTH\nmore formatting issues []\n"
    }
   ],
   "source": [
    "def formatZipCode(df, columnName):\n",
    "    for x in df[columnName]:\n",
    "        if len(str(x)) > 5:\n",
    "            # print(\"old x ------- \", x)\n",
    "            x = x[:5]\n",
    "            # print('new x', x)\n",
    "        elif len(str(x)) < 5:\n",
    "            if len(str(x)) == 4:\n",
    "                x = '0' + str(x)\n",
    "                # print('new zip code', x)\n",
    "            else:\n",
    "                # print(\"error in data, please check or handle\", x)\n",
    "                cityName = df.iloc[df.loc[(df['Site Zip Code']==x)].index-1]['Site City/Town'] \n",
    "                    #index is one off, maybe skip that row\n",
    "                print(\"city in q\", cityName.values[0])\n",
    "                x = (zipcodes.loc[(zipcodes['City'] == cityName.values[0])]['Zip Code'].values)\n",
    "                if len(x) > 0:\n",
    "                    x = '0' + str(x[0])\n",
    "                    print(\"new x\", x)\n",
    "                else: \n",
    "                    print(\"more formatting issues\", x)\n",
    "                #flag row 1098, which is weird\n",
    "                #all caps in the name\n",
    "\n",
    "formatZipCode(df_ashp, 'Site Zip Code')\n",
    "\n",
    ""
   ]
  },
  {
   "cell_type": "code",
   "execution_count": null,
   "metadata": {},
   "outputs": [],
   "source": [
    "#Data Fields for Final Dataset \n",
    "dataFields = ['Municipality', 'Zip Code', 'Tech', 'Year', 'Month', 'Quantity', 'Average Cost',\n",
    "    'Total Cost', 'Total Rebates', 'Average Rebate', 'Count Income-Eligible']\n",
    "\n",
    "df_final = pd.DataFrame(columns=dataFields)\n",
    "\n",
    "print(df_final)\n",
    "\n",
    "#to_csv"
   ]
  }
 ]
}